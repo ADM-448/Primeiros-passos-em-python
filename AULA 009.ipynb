{
 "cells": [
  {
   "cell_type": "code",
   "execution_count": 50,
   "metadata": {},
   "outputs": [
    {
     "name": "stdout",
     "output_type": "stream",
     "text": [
      "Analisando ...\n",
      "Olá ADEMIS MITO, Prazer em conhece-lo\n",
      "Oi ademis mito, Como vai?\n",
      "O seu nome contém 10 letras\n",
      "O seu primeiro nome é Ademis e ele tem 6 letras\n",
      "Acertô, nota deiiz\n"
     ]
    }
   ],
   "source": [
    "# EX 22: Crie um programa que lcia o nome completo de uma pessoa & mostra:\n",
    "# O nome com todas as letras maiúsculas\n",
    "# O nome com todas minúsculas.\n",
    "# Quantas letras ao todo (sem considerar os espaços)\n",
    "# Quantas letras tem o primiro nome\n",
    "\n",
    "nome = str(input('Qual é o seu nome completo ? R: ')).strip()\n",
    "Pn = nome.split()\n",
    "print('Analisando ...')\n",
    "print('Olá {}, Prazer em conhece-lo'.format(nome.upper()))\n",
    "print('Oi {}, Como vai?'.format(nome.lower()))\n",
    "print('O seu nome contém {} letras'.format(len(nome) - nome.count(' ')))\n",
    "print('O seu primeiro nome é {} e ele tem {} letras'.format(Pn[0].capitalize(),len(Pn[0])))\n",
    "print('Acertô, nota deiiz')"
   ]
  },
  {
   "cell_type": "code",
   "execution_count": 56,
   "metadata": {},
   "outputs": [
    {
     "name": "stdout",
     "output_type": "stream",
     "text": [
      "Número da casa de Unidade:9 \n",
      "Número da casa Decimal:1 \n",
      "Número da casa Centesimal:0 \n",
      "Número da casa de Milhar:0 \n"
     ]
    }
   ],
   "source": [
    "# EX 23:Faça um programa que leia um número de 0 a 9999 e mostre na tela cada um dos digitos separados.\n",
    "# Digite um número: 1834\n",
    "# ex : unidade: 4 dezena:3 centena: 8 milhar:1\n",
    "Número = int(input('Dígite um Número: '))\n",
    "U = Número // 1 % 10\n",
    "D = Número // 10 % 10\n",
    "C = Número // 100 % 10\n",
    "M = Número // 1000 % 10\n",
    "print('Número da casa de Unidade:{} '.format(U))\n",
    "print('Número da casa Decimal:{} '.format(D))\n",
    "print('Número da casa Centesimal:{} '.format(C))\n",
    "print('Número da casa de Milhar:{} '.format(M))"
   ]
  },
  {
   "cell_type": "code",
   "execution_count": 61,
   "metadata": {},
   "outputs": [
    {
     "name": "stdout",
     "output_type": "stream",
     "text": [
      "True\n"
     ]
    }
   ],
   "source": [
    "# EX 24: Crie um programa que leia o nome de uma cidade a diga se ela começa ou não com o nome \"SANTO\".\n",
    "cid = str(input('Digite um nome de cidade: ')).strip()\n",
    "print(cid[:5].upper()=='SANTO')"
   ]
  },
  {
   "cell_type": "code",
   "execution_count": 8,
   "metadata": {},
   "outputs": [
    {
     "name": "stdout",
     "output_type": "stream",
     "text": [
      "O seu nome tem Silva ? True\n"
     ]
    }
   ],
   "source": [
    "# EX 25: Crie um programa que leia o nome de uma pessoa e diga se ela tem \"SILVA\" no nome\n",
    "name = str(input('Qual é o seu nome? ')).strip()\n",
    "print('O seu nome tem Silva ? {}'.format('SILVA' in name.upper()))"
   ]
  },
  {
   "cell_type": "code",
   "execution_count": 9,
   "metadata": {},
   "outputs": [
    {
     "name": "stdout",
     "output_type": "stream",
     "text": [
      "A letra A aparece 3 vezes na frase\n",
      "A letra A aparece na 2 posição na primeira vez\n",
      "A letra A aparece na 7 posição na ultima vez\n"
     ]
    }
   ],
   "source": [
    "# EX 26: Faça um programa que leia uma frase pelo teclado a mostre:\n",
    "# Quantas vezes aparece a letra \"A\".\n",
    "# Em que posição ela aparece a primeira Vez.\n",
    "# Em que posição ela aparece a última Vez\n",
    "frase = str(input('Digite uma frase qualquer: ')).upper().strip()\n",
    "print('A letra A aparece {} vezes na frase'.format(frase.count('A')))\n",
    "print('A letra A aparece na {} posição na primeira vez'.format(frase.find('A')+1))\n",
    "print('A letra A aparece na {} posição na ultima vez'.format(frase.rfind('A')+1))\n"
   ]
  },
  {
   "cell_type": "code",
   "execution_count": 12,
   "metadata": {},
   "outputs": [
    {
     "name": "stdout",
     "output_type": "stream",
     "text": [
      "O seu primeiro nome é Ademar\n",
      "O seu último nome é Teisen\n"
     ]
    }
   ],
   "source": [
    "# EX 27: Faça um programa que leia o nome completo de uma pessoa, mostrando em seguida o primeiro e o último nome separadamente.\n",
    "# Ex: Ana Maria da Souza\n",
    "# primeiro = Ana último = Souza\n",
    "n = str(input('Digite o seu nome completo: ')).strip().title()\n",
    "nome = n.split()\n",
    "print('O seu primeiro nome é {}'.format(nome[0]))\n",
    "print('O seu último nome é {}'.format(nome[len(nome)-1]))"
   ]
  }
 ],
 "metadata": {
  "kernelspec": {
   "display_name": "Python 3",
   "language": "python",
   "name": "python3"
  },
  "language_info": {
   "codemirror_mode": {
    "name": "ipython",
    "version": 3
   },
   "file_extension": ".py",
   "mimetype": "text/x-python",
   "name": "python",
   "nbconvert_exporter": "python",
   "pygments_lexer": "ipython3",
   "version": "3.11.4"
  },
  "orig_nbformat": 4
 },
 "nbformat": 4,
 "nbformat_minor": 2
}
