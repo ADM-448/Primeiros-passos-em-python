{
 "cells": [
  {
   "cell_type": "code",
   "execution_count": 69,
   "metadata": {},
   "outputs": [
    {
     "name": "stdout",
     "output_type": "stream",
     "text": [
      "-=--=--=--=--=--=--=--=--=--=--=--=--=--=--=--=--=--=--=--=-\n",
      "Escolha um número entre 0 e 5, Será que você consegue adivinhar ?: \n",
      "-=--=--=--=--=--=--=--=--=--=--=--=--=--=--=--=--=--=--=--=-\n",
      "Analisando....\n",
      "1\n",
      "2\n",
      "3\n",
      "O computador escolheu 5, Você perdeu, tente novamente\n"
     ]
    }
   ],
   "source": [
    "# EX 28: Escreva um programa que faça o computador 'pensar' em um número inteiro de 0 a 5 e peça para o usuário tentar descobrir qual foi o número escolhido.\n",
    "# pelo computador. O programa deverá escrever na ela venceu ou perdeu\n",
    "from random import randint\n",
    "from time import sleep\n",
    "A = randint(0, 5)\n",
    "print('-=-'*25)\n",
    "print('Escolha um número entre 0 e 5, Será que você consegue adivinhar ?: ')\n",
    "print('-=-'*25)\n",
    "B = int(input('Escolha um número entre 0 e 5, Será que você consegue adivinhar ?: '))\n",
    "sleep(3)\n",
    "print('Analisando....')\n",
    "sleep(1)\n",
    "print('1')\n",
    "sleep(1)\n",
    "print('2')\n",
    "sleep(1)\n",
    "print('3')\n",
    "sleep(2)\n",
    "if B == A:\n",
    "    print('O computador escolheu {}, Parabéns você venceu!'. format(A))\n",
    "else:\n",
    "    print('O computador escolheu {}, Você perdeu, tente novamente'.format(A))    "
   ]
  },
  {
   "cell_type": "code",
   "execution_count": 46,
   "metadata": {},
   "outputs": [
    {
     "name": "stdout",
     "output_type": "stream",
     "text": [
      "Dirige mais devagar, sua multa foi de R$ 70.00\n"
     ]
    }
   ],
   "source": [
    "# EX 29:Escreva um programa que leia a velocidade de um carro. Se ele ultrapassar 80km/h,mostre uma mensagem dizendo que ele foi multado.\n",
    "# Para cada km acima do limite aumenta 7 reais de multa\n",
    "C = int(input('Digite sua velocidade: '))\n",
    "D = C - 80\n",
    "E = D*7\n",
    "if C <= 80:\n",
    "    print('Você é um motorista cuidadoso')\n",
    "else:\n",
    "    print('Dirige mais devagar, sua multa foi de R$ {:.2f}'.format(E))\n",
    "    \n"
   ]
  },
  {
   "cell_type": "code",
   "execution_count": 32,
   "metadata": {},
   "outputs": [
    {
     "name": "stdout",
     "output_type": "stream",
     "text": [
      "Este número é PAR\n"
     ]
    }
   ],
   "source": [
    "# EX 30: Crie um programa que leia um número inteiro e mostra na tela se ela é PAR ou IMPAR\n",
    "F = int(input('Digite um número inteiro qualquer: '))\n",
    "if F%2 == 0:\n",
    "    print('Este número é PAR')\n",
    "else:\n",
    "    print('Este número é IMPAR')\n"
   ]
  },
  {
   "cell_type": "code",
   "execution_count": 55,
   "metadata": {},
   "outputs": [
    {
     "name": "stdout",
     "output_type": "stream",
     "text": [
      "Sua viagem Custará R$ 180.00\n"
     ]
    }
   ],
   "source": [
    "# EX 31:Desenvolva um programa que pergunta a distancia de uma viagem em km. Até 200 km o valor por km é 0,50 acima disso é 0,45\n",
    "G = float(input('Digite a distância em Km da sua viagem: '))\n",
    "if G <= 200 :\n",
    "    print('Sua viagem custará R$ {:.2f}'.format(G*0.50))\n",
    "else:\n",
    "    print('Sua viagem Custará R$ {:.2f}'.format(G*0.45))\n"
   ]
  },
  {
   "cell_type": "code",
   "execution_count": 61,
   "metadata": {},
   "outputs": [
    {
     "name": "stdout",
     "output_type": "stream",
     "text": [
      "O Ano 1998 Não é BISSEXTO\n"
     ]
    }
   ],
   "source": [
    "# EX 32: Faça um programa que leia um ano qualquer e mostre se ele é bissexto\n",
    "H = int(input('Em que ano estamos viajante? '))\n",
    "if H%4 == 0:\n",
    "    print('O Ano {} é BISSEXTO'.format(H))\n",
    "else:\n",
    "    print('O Ano {} Não é BISSEXTO'.format(H))\n",
    "    "
   ]
  },
  {
   "cell_type": "code",
   "execution_count": 74,
   "metadata": {},
   "outputs": [
    {
     "name": "stdout",
     "output_type": "stream",
     "text": [
      "O número menor é 1\n",
      "O número maior é 3\n"
     ]
    }
   ],
   "source": [
    "# EX 33: Faça um programa que leia três números e mostre qual é o maior e qual é o menor\n",
    "I = int(input('Digite 1 números inteiro qualquer: '))\n",
    "J = int(input('Digite outro número inteiro: '))\n",
    "K = int(input('Digite mais um número:'))\n",
    "menor = I\n",
    "if J < I and J < K:\n",
    "    menor = J\n",
    "if K < I and K < J:\n",
    "    menor = K\n",
    "maior = I\n",
    "if J > I and J > K:\n",
    "    maior = J\n",
    "if K > I and K > J:\n",
    "    maior = K\n",
    "print('O número menor é {}'.format(menor))\n",
    "print('O número maior é {}'.format(maior))"
   ]
  },
  {
   "cell_type": "code",
   "execution_count": 27,
   "metadata": {},
   "outputs": [
    {
     "name": "stdout",
     "output_type": "stream",
     "text": [
      "O seu salário será R$ 1150.0\n"
     ]
    }
   ],
   "source": [
    "# EX 34: Escreva um programa que pergunte o salário de um funcionário e calcule o valor do seu aumento,Se for maior que 1250 aumenta 10% e se não aumenta 15%\n",
    "m = int(input('Qual é o seu salário: '))\n",
    "n = m + (m*10/100)\n",
    "o = m + (m*15/100)\n",
    "if m > 1250:\n",
    "    print('O seu salário será R$ {}'.format(n))\n",
    "else:\n",
    "    print('O seu salário será R$ {}'.format(o))"
   ]
  },
  {
   "cell_type": "code",
   "execution_count": 6,
   "metadata": {},
   "outputs": [
    {
     "name": "stdout",
     "output_type": "stream",
     "text": [
      "Os lados 3,6 e 9, Não formam um triângulo, o maior lado é 6\n"
     ]
    }
   ],
   "source": [
    "# EX 35: Desenvolva um programa que leia o comprimento de 3 retas e diga se elas podem ou não formar um triangulo\n",
    "#  CONDIÇÃO DE EXISTÊNCIA: A SOMA DE DOIS LADOS TEM Q SER MAIOR Q O TERCEIRO\n",
    "l1 = int(input('Digite o valor do 1° lado do triângulo: '))\n",
    "l2 = int(input('Digite o valor do 2° lado do triângulo: '))\n",
    "l3 = int(input('Agora digite o ultimo lado: '))\n",
    "\n",
    "if l1<l2+l3:\n",
    "    s = 'Formam'\n",
    "    menor = l1\n",
    "else:\n",
    "    s = 'Não Formam'\n",
    "if l2<l1+l3:\n",
    "    s = 'Formam'\n",
    "    menor = l2\n",
    "else:\n",
    "    s = 'Não Formam'\n",
    "if l3<l2+l1:\n",
    "    s = 'Formam'\n",
    "    menor = l3\n",
    "else:\n",
    "    s = 'Não formam'\n",
    "print('Os lados {},{} e {}, {} um triângulo, o maior lado é {}'.format(l1, l2, l3, s, menor))"
   ]
  },
  {
   "cell_type": "code",
   "execution_count": 52,
   "metadata": {},
   "outputs": [
    {
     "name": "stdout",
     "output_type": "stream",
     "text": [
      "Os lados formam um triângulo\n"
     ]
    }
   ],
   "source": [
    "# test 35\n",
    "r1 = float(input(('Primeiro lado: ')))\n",
    "r2 = float(input('Segundo lado: '))\n",
    "r3 = float(input('Terceiro lado: '))\n",
    "if r1 < r2 + r3 and r2 < r1 + r3 and r3 < r1 + r2:\n",
    "    print('Os lados formam um triângulo')\n",
    "else:\n",
    "    print('Os lados Não formam um triângulo')"
   ]
  }
 ],
 "metadata": {
  "kernelspec": {
   "display_name": "Python 3",
   "language": "python",
   "name": "python3"
  },
  "language_info": {
   "codemirror_mode": {
    "name": "ipython",
    "version": 3
   },
   "file_extension": ".py",
   "mimetype": "text/x-python",
   "name": "python",
   "nbconvert_exporter": "python",
   "pygments_lexer": "ipython3",
   "version": "3.11.4"
  },
  "orig_nbformat": 4
 },
 "nbformat": 4,
 "nbformat_minor": 2
}
